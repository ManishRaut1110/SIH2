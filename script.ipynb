{
 "cells": [
  {
   "cell_type": "code",
   "execution_count": 1,
   "metadata": {},
   "outputs": [
    {
     "name": "stdout",
     "output_type": "stream",
     "text": [
      "['Sacramento, California' 'California Central Valley'\n",
      " 'Santa Ana, California' 'San Diego, California'\n",
      " 'San Francisco, California' 'Long Beach, California'\n",
      " 'San Jose, California' 'Beverly Hills, California'\n",
      " 'Los Angeles, California' 'Modesto, California' 'Bakersfield, California'\n",
      " 'Irvine, California' 'Colima, Colima'\n",
      " 'Cabo San Lucas, Baja California Sur' 'La Paz, Baja California Sur'\n",
      " 'Puerto Vallarta, Mexico' 'Mexicali, Baja California'\n",
      " 'Guadalajara, Jalisco' 'Tijuana, Baja California' 'Cozumel, Quintana Roo'\n",
      " 'Baja California Peninsula' 'Manzanillo, Colima' 'Tepatitlán, Jalisco'\n",
      " 'Monterrey, Nuevo León' 'Kullu, Himachal Pradesh' 'Chandigarh, Punjab'\n",
      " 'Srinagar, Kashmir' 'Shimla, Himachal Pradesh' 'Gurdaspur, Punjab'\n",
      " 'Amritsar, Punjab' 'Lahore, Punjab' 'Patiala, Punjab'\n",
      " 'Kangra, Himachal Pradesh' 'Dera Ismail Khan, Khyber Pakhtunkhwa'\n",
      " 'Moga, Punjab' 'Jammu, Jammu and Kashmir']\n"
     ]
    }
   ],
   "source": [
    "import pandas as pd\n",
    "\n",
    "df = pd.read_csv(\"updated_with_relevance.csv\")\n",
    "print(df['location'].unique())\n"
   ]
  }
 ],
 "metadata": {
  "kernelspec": {
   "display_name": "Python 3",
   "language": "python",
   "name": "python3"
  },
  "language_info": {
   "codemirror_mode": {
    "name": "ipython",
    "version": 3
   },
   "file_extension": ".py",
   "mimetype": "text/x-python",
   "name": "python",
   "nbconvert_exporter": "python",
   "pygments_lexer": "ipython3",
   "version": "3.12.6"
  }
 },
 "nbformat": 4,
 "nbformat_minor": 2
}
